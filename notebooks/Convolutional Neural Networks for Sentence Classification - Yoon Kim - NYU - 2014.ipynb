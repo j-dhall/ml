{
 "cells": [
  {
   "cell_type": "markdown",
   "metadata": {},
   "source": [
    "### Imports"
   ]
  },
  {
   "cell_type": "code",
   "execution_count": 1,
   "metadata": {},
   "outputs": [
    {
     "name": "stderr",
     "output_type": "stream",
     "text": [
      "Using TensorFlow backend.\n"
     ]
    }
   ],
   "source": [
    "import re #data cleaning\n",
    "import string #\n",
    "\n",
    "import numpy as np\n",
    "import pandas as pd\n",
    "import matplotlib.pyplot as plt\n",
    "%matplotlib inline\n",
    "\n",
    "import tensorflow as tf\n",
    "from tensorflow import keras\n",
    "from tensorflow.keras.layers.experimental.preprocessing\\\n",
    "import TextVectorization\n",
    "from tensorflow.keras.models import Model\n",
    "from tensorflow.keras.layers import *\n",
    "from tensorflow.keras import layers\n",
    "from tensorflow.keras import regularizers\n",
    "from keras.initializers import Constant\n",
    "\n",
    "\n",
    "from sklearn.metrics import confusion_matrix, accuracy_score\n",
    "from sklearn.model_selection import train_test_split"
   ]
  },
  {
   "cell_type": "markdown",
   "metadata": {},
   "source": [
    "### Environment"
   ]
  },
  {
   "cell_type": "code",
   "execution_count": 2,
   "metadata": {},
   "outputs": [],
   "source": [
    "data_file_train = '..\\\\input\\\\movie-review-sentiment-analysis-kernels-only\\\\train.tsv'\n",
    "data_file_test = '..\\\\input\\\\movie-review-sentiment-analysis-kernels-only\\\\test.tsv'\n",
    "embed_file = '..\\\\input\\\\glove-global-vectors-for-word-representation\\\\glove.6B.200d.txt'"
   ]
  },
  {
   "cell_type": "code",
   "execution_count": 3,
   "metadata": {},
   "outputs": [],
   "source": [
    "embed_dim = 200"
   ]
  },
  {
   "cell_type": "markdown",
   "metadata": {},
   "source": [
    "### Data"
   ]
  },
  {
   "cell_type": "markdown",
   "metadata": {},
   "source": [
    "#### read the data files into data frames"
   ]
  },
  {
   "cell_type": "code",
   "execution_count": 4,
   "metadata": {},
   "outputs": [
    {
     "name": "stderr",
     "output_type": "stream",
     "text": [
      "C:\\Users\\jeete\\.conda\\envs\\Python37Env\\lib\\site-packages\\ipykernel_launcher.py:1: FutureWarning: Passing a negative integer is deprecated in version 1.0 and will not be supported in future version. Instead, use None to not limit the column width.\n",
      "  \"\"\"Entry point for launching an IPython kernel.\n"
     ]
    },
    {
     "name": "stdout",
     "output_type": "stream",
     "text": [
      "***Training Set:***\n",
      "    PhraseId  SentenceId  \\\n",
      "0  1         1            \n",
      "\n",
      "                                                                                                                                                                                         Phrase  \\\n",
      "0  A series of escapades demonstrating the adage that what is good for the goose is also good for the gander , some of which occasionally amuses but none of which amounts to much of a story .   \n",
      "\n",
      "   Sentiment  \n",
      "0  1          \n",
      "***Testing Set:***\n",
      "    PhraseId  SentenceId  \\\n",
      "0  156061    8545         \n",
      "\n",
      "                                                   Phrase  \n",
      "0  An intermittently pleasing but mostly routine effort .  \n"
     ]
    }
   ],
   "source": [
    "pd.set_option('display.max_colwidth', -1)\n",
    "df_train = pd.read_csv(data_file_train, delimiter='\\t')\n",
    "df_test = pd.read_csv(data_file_test, delimiter='\\t')\n",
    "print('***Training Set:***\\n', df_train.head(1))\n",
    "print('***Testing Set:***\\n', df_test.head(1))"
   ]
  },
  {
   "cell_type": "markdown",
   "metadata": {},
   "source": [
    "#### cleaning the data"
   ]
  },
  {
   "cell_type": "code",
   "execution_count": 5,
   "metadata": {},
   "outputs": [
    {
     "name": "stderr",
     "output_type": "stream",
     "text": [
      "C:\\Users\\jeete\\.conda\\envs\\Python37Env\\lib\\site-packages\\ipykernel_launcher.py:23: SettingWithCopyWarning: \n",
      "A value is trying to be set on a copy of a slice from a DataFrame.\n",
      "Try using .loc[row_indexer,col_indexer] = value instead\n",
      "\n",
      "See the caveats in the documentation: https://pandas.pydata.org/pandas-docs/stable/user_guide/indexing.html#returning-a-view-versus-a-copy\n"
     ]
    }
   ],
   "source": [
    "#drop unwanted columns\n",
    "def retain_cols(df, cols):\n",
    "    df = df[cols]\n",
    "    return df\n",
    "\n",
    "#Turn url's into url, remove anything that's not alphanumeric or a space.\n",
    "#Then lowercase what's left.\n",
    "def clean_str(in_str):\n",
    "    in_str = str(in_str)\n",
    "    # replace urls with 'url'\n",
    "    in_str = re.sub(r\"(https?:\\/\\/(?:www\\.|(?!www))[a-zA-Z0-9]\\\n",
    "    [a-zA-Z0-9-]+[a-zA-Z0-9]\\.[^\\s]{2,}|www\\.[a-zA-Z0-9]\\\n",
    "    [a-zA-Z0-9-]+[a-zA-Z0-9]\\.[^\\s]{2,}\\\n",
    "    |https?:\\/\\/(?:www\\.|(?!www))[a-zA-Z0-9]\\\n",
    "    \\.[^\\s]{2,}|www\\.[a-zA-Z0-9]\\.[^\\s]{2,})\",\\\n",
    "                    \"url\", in_str)\n",
    "    in_str = re.sub(r'([^\\s\\w]|_)+', '', in_str)\n",
    "    return in_str.strip().lower()\n",
    "\n",
    "#clean the data\n",
    "def clean_data(df, cols):\n",
    "    df = retain_cols(df, cols)\n",
    "    df['Text'] = df['Phrase'].apply(clean_str)\n",
    "    return df\n",
    "\n",
    "df_train = clean_data(df_train, ['Phrase', 'Sentiment'])\n",
    "df_test = clean_data(df_test, ['Phrase'])"
   ]
  },
  {
   "cell_type": "markdown",
   "metadata": {},
   "source": [
    "#### balancing classes"
   ]
  },
  {
   "cell_type": "markdown",
   "metadata": {},
   "source": [
    "Our data is classified into 5 different classes, very negative, slightly negative, neutral, slightly positive and very positive.\n",
    "\n",
    "Sadly our dataset isn't balanced, so we need to do that ourselves"
   ]
  },
  {
   "cell_type": "markdown",
   "metadata": {},
   "source": [
    "NOTE: <font color='orange'>using alias 'df' for 'df_train'</font> for convenience"
   ]
  },
  {
   "cell_type": "code",
   "execution_count": 6,
   "metadata": {},
   "outputs": [],
   "source": [
    "df = df_train"
   ]
  },
  {
   "cell_type": "code",
   "execution_count": 7,
   "metadata": {},
   "outputs": [
    {
     "data": {
      "text/plain": [
       "2    79582\n",
       "3    32927\n",
       "1    27273\n",
       "4    9206 \n",
       "0    7072 \n",
       "Name: Sentiment, dtype: int64"
      ]
     },
     "execution_count": 7,
     "metadata": {},
     "output_type": "execute_result"
    }
   ],
   "source": [
    "df.Sentiment.value_counts()"
   ]
  },
  {
   "cell_type": "code",
   "execution_count": 8,
   "metadata": {},
   "outputs": [],
   "source": [
    "df_0 = df[df['Sentiment'] == 0].sample(frac=1)\n",
    "df_1 = df[df['Sentiment'] == 1].sample(frac=1)\n",
    "df_2 = df[df['Sentiment'] == 2].sample(frac=1)\n",
    "df_3 = df[df['Sentiment'] == 3].sample(frac=1)\n",
    "df_4 = df[df['Sentiment'] == 4].sample(frac=1)"
   ]
  },
  {
   "cell_type": "code",
   "execution_count": 9,
   "metadata": {},
   "outputs": [
    {
     "data": {
      "text/html": [
       "<div>\n",
       "<style scoped>\n",
       "    .dataframe tbody tr th:only-of-type {\n",
       "        vertical-align: middle;\n",
       "    }\n",
       "\n",
       "    .dataframe tbody tr th {\n",
       "        vertical-align: top;\n",
       "    }\n",
       "\n",
       "    .dataframe thead th {\n",
       "        text-align: right;\n",
       "    }\n",
       "</style>\n",
       "<table border=\"1\" class=\"dataframe\">\n",
       "  <thead>\n",
       "    <tr style=\"text-align: right;\">\n",
       "      <th></th>\n",
       "      <th>Phrase</th>\n",
       "      <th>Sentiment</th>\n",
       "      <th>Text</th>\n",
       "    </tr>\n",
       "  </thead>\n",
       "  <tbody>\n",
       "    <tr>\n",
       "      <th>126436</th>\n",
       "      <td>as a coherent whole</td>\n",
       "      <td>2</td>\n",
       "      <td>as a coherent whole</td>\n",
       "    </tr>\n",
       "    <tr>\n",
       "      <th>105675</th>\n",
       "      <td>the greatness</td>\n",
       "      <td>4</td>\n",
       "      <td>the greatness</td>\n",
       "    </tr>\n",
       "    <tr>\n",
       "      <th>118554</th>\n",
       "      <td>in this shower of black-and-white psychedelia</td>\n",
       "      <td>2</td>\n",
       "      <td>in this shower of blackandwhite psychedelia</td>\n",
       "    </tr>\n",
       "  </tbody>\n",
       "</table>\n",
       "</div>"
      ],
      "text/plain": [
       "                                               Phrase  Sentiment  \\\n",
       "126436  as a coherent whole                            2           \n",
       "105675  the greatness                                  4           \n",
       "118554  in this shower of black-and-white psychedelia  2           \n",
       "\n",
       "                                               Text  \n",
       "126436  as a coherent whole                          \n",
       "105675  the greatness                                \n",
       "118554  in this shower of blackandwhite psychedelia  "
      ]
     },
     "execution_count": 9,
     "metadata": {},
     "output_type": "execute_result"
    }
   ],
   "source": [
    "# we want a balanced set for training against - there are 7072 `0` examples\n",
    "sample_size = 7072\n",
    "\n",
    "data = pd.concat([df_0.head(sample_size),\\\n",
    "                  df_1.head(sample_size),\\\n",
    "                  df_2.head(sample_size),\\\n",
    "                  df_3.head(sample_size),\\\n",
    "                  df_4.head(sample_size)]).sample(frac=1)\n",
    "data.head(3)"
   ]
  },
  {
   "cell_type": "markdown",
   "metadata": {},
   "source": [
    "NOTE: <font color='orange'>'data' represents 'df_train' after data preprocessing</font>"
   ]
  },
  {
   "cell_type": "markdown",
   "metadata": {},
   "source": [
    "#### input vectorization"
   ]
  },
  {
   "cell_type": "markdown",
   "metadata": {},
   "source": [
    "##### sequence length and max features"
   ]
  },
  {
   "cell_type": "code",
   "execution_count": 10,
   "metadata": {},
   "outputs": [
    {
     "name": "stdout",
     "output_type": "stream",
     "text": [
      "mean length of sentence: 8.852912895927602\n",
      "max length of sentence: 51\n",
      "std dev length of sentence: 7.795155206603288\n"
     ]
    }
   ],
   "source": [
    "data['l'] = data['Text'].apply(lambda x: len(str(x).split(' ')))\n",
    "print(\"mean length of sentence: \" + str(data.l.mean()))\n",
    "print(\"max length of sentence: \" + str(data.l.max()))\n",
    "print(\"std dev length of sentence: \" + str(data.l.std()))"
   ]
  },
  {
   "cell_type": "code",
   "execution_count": 11,
   "metadata": {},
   "outputs": [],
   "source": [
    "# these sentences aren't that long so we may as well use the whole string\n",
    "sequence_length = int(data.l.max())"
   ]
  },
  {
   "cell_type": "code",
   "execution_count": 12,
   "metadata": {},
   "outputs": [],
   "source": [
    "max_features = 20000 # this is the number of words we care about"
   ]
  },
  {
   "cell_type": "markdown",
   "metadata": {},
   "source": [
    "##### vocabulary"
   ]
  },
  {
   "cell_type": "code",
   "execution_count": 13,
   "metadata": {},
   "outputs": [
    {
     "name": "stdout",
     "output_type": "stream",
     "text": [
      "Vocabulary: [b'the', b'a', b'and', b'of', b'to']\n",
      "Vectorizing \"the cat sat on the mat\":\n",
      " [    2  2983  8788    22     2 11324]\n",
      "Word index of words [\"the\", \"cat\", \"sat\", \"on\", \"the\", \"mat\"]: [0, 2981, 8786, 20, 0, 11322]\n"
     ]
    }
   ],
   "source": [
    "vectorizer = TextVectorization(max_tokens=max_features,\\\n",
    "                               output_sequence_length=sequence_length)\n",
    "text_ds = tf.data.Dataset.from_tensor_slices(data['Text'].values).batch(128)\n",
    "vectorizer.adapt(text_ds)\n",
    "voc = vectorizer.get_vocabulary()\n",
    "print('Vocabulary:', voc[:5])\n",
    "print('Vectorizing \"the cat sat on the mat\":\\n',\\\n",
    "     vectorizer([[\"the cat sat on the mat\"]]).numpy()[0, :6])\n",
    "word_index = dict(zip([x.decode('utf-8') for x in voc], range(len(voc))))\n",
    "print('Word index of words [\"the\", \"cat\", \"sat\", \"on\", \"the\", \"mat\"]:', \\\n",
    "      [word_index[w] for w in [\"the\", \"cat\", \"sat\", \"on\", \"the\", \"mat\"]])"
   ]
  },
  {
   "cell_type": "markdown",
   "metadata": {},
   "source": [
    "NOTE: The index of vectorizing is off by 2 when compared with word index generated from its vocabulary. We will have to <font color='blue'>make adjustment of 2 when creating the embedding matrix.</font>"
   ]
  },
  {
   "cell_type": "markdown",
   "metadata": {},
   "source": [
    "##### vectorize input and split for validation"
   ]
  },
  {
   "cell_type": "code",
   "execution_count": 14,
   "metadata": {},
   "outputs": [],
   "source": [
    "X = vectorizer(np.array([[s] for s in data['Text'].values])).numpy()\n",
    "y = np.array(pd.get_dummies(data['Sentiment']).values)"
   ]
  },
  {
   "cell_type": "code",
   "execution_count": 15,
   "metadata": {},
   "outputs": [
    {
     "name": "stdout",
     "output_type": "stream",
     "text": [
      "Validation set size 3536\n"
     ]
    }
   ],
   "source": [
    "# where there isn't a test set, Kim keeps back 10% of the data for testing,\n",
    "#I'm going to do the same since we have an ok amount to play with\n",
    "X_train, X_val, y_train, y_val =\\\n",
    "train_test_split(X, y, test_size=0.1)\n",
    "print(\"Validation set size \" + str(len(X_val)))"
   ]
  },
  {
   "cell_type": "markdown",
   "metadata": {},
   "source": [
    "### Word Embeddings"
   ]
  },
  {
   "cell_type": "markdown",
   "metadata": {},
   "source": [
    "#### load GloVe embeddings"
   ]
  },
  {
   "cell_type": "code",
   "execution_count": 16,
   "metadata": {},
   "outputs": [
    {
     "name": "stdout",
     "output_type": "stream",
     "text": [
      "Found 400000 word vectors\n"
     ]
    }
   ],
   "source": [
    "embeddings_index = {}\n",
    "f_embed = open(embed_file, encoding=\"utf8\")\n",
    "for line in f_embed:\n",
    "    tokens = line.split()\n",
    "    word = tokens[0]\n",
    "    coefs = np.asarray(tokens[1:], dtype='float32')\n",
    "    embeddings_index[word] = coefs\n",
    "f_embed.close()\n",
    "print('Found %s word vectors' % len(embeddings_index))"
   ]
  },
  {
   "cell_type": "markdown",
   "metadata": {},
   "source": [
    "#### embedding matrix"
   ]
  },
  {
   "cell_type": "code",
   "execution_count": 17,
   "metadata": {},
   "outputs": [
    {
     "name": "stdout",
     "output_type": "stream",
     "text": [
      "Converted 13499 words (1463 misses)\n"
     ]
    }
   ],
   "source": [
    "num_words = min(max_features, len(word_index)) + 2\n",
    "embedding_dim = embed_dim\n",
    "hits = 0\n",
    "misses = 0\n",
    "\n",
    "# Prepare embedding matrix\n",
    "embedding_matrix = np.zeros((num_words, embedding_dim))\n",
    "for word, i in word_index.items():\n",
    "    embedding_vector = embeddings_index.get(word)\n",
    "    if embedding_vector is not None:\n",
    "        # Words not found in embedding index will be all-zeros.\n",
    "        # This includes the representation for \"padding\" and \"OOV\"\n",
    "        embedding_matrix[i+2] = embedding_vector\n",
    "        hits += 1\n",
    "    else:\n",
    "        misses += 1\n",
    "print(\"Converted %d words (%d misses)\" % (hits, misses))"
   ]
  },
  {
   "cell_type": "markdown",
   "metadata": {},
   "source": [
    "### Model"
   ]
  },
  {
   "cell_type": "markdown",
   "metadata": {},
   "source": [
    "#### model architecture"
   ]
  },
  {
   "cell_type": "code",
   "execution_count": 18,
   "metadata": {},
   "outputs": [],
   "source": [
    "num_filters = 100"
   ]
  },
  {
   "cell_type": "code",
   "execution_count": 19,
   "metadata": {},
   "outputs": [],
   "source": [
    "inputs_3 = Input(shape=(sequence_length,), dtype='int32')\n",
    "embedding_layer_3 = Embedding(num_words,\n",
    "                            embedding_dim,\n",
    "                            embeddings_initializer=Constant(embedding_matrix),\n",
    "                            input_length=sequence_length,\n",
    "                            trainable=True)(inputs_3)\n",
    "\n",
    "reshape_3 = Reshape((sequence_length, embedding_dim, 1))(embedding_layer_3)\n",
    "\n",
    "# note the relu activation\n",
    "conv_0_3 = Conv2D(num_filters, kernel_size=(3, embedding_dim), activation='relu', kernel_regularizer=regularizers.l2(3))(reshape_3)\n",
    "conv_1_3 = Conv2D(num_filters, kernel_size=(4, embedding_dim), activation='relu', kernel_regularizer=regularizers.l2(3))(reshape_3)\n",
    "conv_2_3 = Conv2D(num_filters, kernel_size=(5, embedding_dim), activation='relu', kernel_regularizer=regularizers.l2(3))(reshape_3)\n",
    "\n",
    "maxpool_0_3 = MaxPool2D(pool_size=(sequence_length - 3 + 1, 1), strides=(1,1), padding='valid')(conv_0_3)\n",
    "maxpool_1_3 = MaxPool2D(pool_size=(sequence_length - 4 + 1, 1), strides=(1,1), padding='valid')(conv_1_3)\n",
    "maxpool_2_3 = MaxPool2D(pool_size=(sequence_length - 5 + 1, 1), strides=(1,1), padding='valid')(conv_2_3)\n",
    "\n",
    "concatenated_tensor_3 = Concatenate(axis=1)([maxpool_0_3, maxpool_1_3, maxpool_2_3])\n",
    "flatten_3 = Flatten()(concatenated_tensor_3)\n",
    "\n",
    "dropout_3 = Dropout(0.5)(flatten_3)\n",
    "output_3 = Dense(units=5, activation='softmax')(dropout_3)"
   ]
  },
  {
   "cell_type": "code",
   "execution_count": 20,
   "metadata": {},
   "outputs": [
    {
     "name": "stdout",
     "output_type": "stream",
     "text": [
      "Model: \"model\"\n",
      "__________________________________________________________________________________________________\n",
      "Layer (type)                    Output Shape         Param #     Connected to                     \n",
      "==================================================================================================\n",
      "input_1 (InputLayer)            [(None, 51)]         0                                            \n",
      "__________________________________________________________________________________________________\n",
      "embedding (Embedding)           (None, 51, 200)      2992800     input_1[0][0]                    \n",
      "__________________________________________________________________________________________________\n",
      "reshape (Reshape)               (None, 51, 200, 1)   0           embedding[0][0]                  \n",
      "__________________________________________________________________________________________________\n",
      "conv2d (Conv2D)                 (None, 49, 1, 100)   60100       reshape[0][0]                    \n",
      "__________________________________________________________________________________________________\n",
      "conv2d_1 (Conv2D)               (None, 48, 1, 100)   80100       reshape[0][0]                    \n",
      "__________________________________________________________________________________________________\n",
      "conv2d_2 (Conv2D)               (None, 47, 1, 100)   100100      reshape[0][0]                    \n",
      "__________________________________________________________________________________________________\n",
      "max_pooling2d (MaxPooling2D)    (None, 1, 1, 100)    0           conv2d[0][0]                     \n",
      "__________________________________________________________________________________________________\n",
      "max_pooling2d_1 (MaxPooling2D)  (None, 1, 1, 100)    0           conv2d_1[0][0]                   \n",
      "__________________________________________________________________________________________________\n",
      "max_pooling2d_2 (MaxPooling2D)  (None, 1, 1, 100)    0           conv2d_2[0][0]                   \n",
      "__________________________________________________________________________________________________\n",
      "concatenate (Concatenate)       (None, 3, 1, 100)    0           max_pooling2d[0][0]              \n",
      "                                                                 max_pooling2d_1[0][0]            \n",
      "                                                                 max_pooling2d_2[0][0]            \n",
      "__________________________________________________________________________________________________\n",
      "flatten (Flatten)               (None, 300)          0           concatenate[0][0]                \n",
      "__________________________________________________________________________________________________\n",
      "dropout (Dropout)               (None, 300)          0           flatten[0][0]                    \n",
      "__________________________________________________________________________________________________\n",
      "dense (Dense)                   (None, 5)            1505        dropout[0][0]                    \n",
      "==================================================================================================\n",
      "Total params: 3,234,605\n",
      "Trainable params: 3,234,605\n",
      "Non-trainable params: 0\n",
      "__________________________________________________________________________________________________\n",
      "None\n"
     ]
    }
   ],
   "source": [
    "model_3 = Model(inputs=inputs_3, outputs=output_3)\n",
    "model_3.compile(loss='categorical_crossentropy', optimizer='adam', metrics=['accuracy'])\n",
    "print(model_3.summary())"
   ]
  },
  {
   "cell_type": "markdown",
   "metadata": {},
   "source": [
    "#### fit the model"
   ]
  },
  {
   "cell_type": "code",
   "execution_count": 21,
   "metadata": {},
   "outputs": [
    {
     "name": "stdout",
     "output_type": "stream",
     "text": [
      "Train on 25459 samples, validate on 6365 samples\n",
      "Epoch 1/20\n",
      "25459/25459 [==============================] - 45s 2ms/sample - loss: 1.8741 - accuracy: 0.3235 - val_loss: 1.7950 - val_accuracy: 0.4606\n",
      "Epoch 2/20\n",
      "25459/25459 [==============================] - 46s 2ms/sample - loss: 1.7895 - accuracy: 0.4561 - val_loss: 1.7728 - val_accuracy: 0.4900\n",
      "Epoch 3/20\n",
      "25459/25459 [==============================] - 45s 2ms/sample - loss: 1.6925 - accuracy: 0.5079 - val_loss: 1.7373 - val_accuracy: 0.5181\n",
      "Epoch 4/20\n",
      "25459/25459 [==============================] - 46s 2ms/sample - loss: 1.6284 - accuracy: 0.5356 - val_loss: 1.6358 - val_accuracy: 0.5412\n",
      "Epoch 5/20\n",
      "25459/25459 [==============================] - 48s 2ms/sample - loss: 1.5968 - accuracy: 0.5486 - val_loss: 1.6221 - val_accuracy: 0.5414\n",
      "Epoch 6/20\n",
      "25459/25459 [==============================] - 47s 2ms/sample - loss: 1.5597 - accuracy: 0.5635 - val_loss: 1.6738 - val_accuracy: 0.5427\n",
      "Epoch 7/20\n",
      "25459/25459 [==============================] - 46s 2ms/sample - loss: 1.5342 - accuracy: 0.5761 - val_loss: 1.6104 - val_accuracy: 0.5467\n",
      "Epoch 8/20\n",
      "25459/25459 [==============================] - 47s 2ms/sample - loss: 1.5177 - accuracy: 0.5817 - val_loss: 1.6102 - val_accuracy: 0.5554\n",
      "Epoch 9/20\n",
      "25459/25459 [==============================] - 47s 2ms/sample - loss: 1.4893 - accuracy: 0.5910 - val_loss: 1.7088 - val_accuracy: 0.5361\n",
      "Epoch 10/20\n",
      "25459/25459 [==============================] - 47s 2ms/sample - loss: 1.4825 - accuracy: 0.5948 - val_loss: 1.6229 - val_accuracy: 0.5241\n",
      "Epoch 11/20\n",
      "25459/25459 [==============================] - 48s 2ms/sample - loss: 1.4645 - accuracy: 0.6065 - val_loss: 1.6565 - val_accuracy: 0.5400\n",
      "Epoch 12/20\n",
      "25459/25459 [==============================] - 47s 2ms/sample - loss: 1.4500 - accuracy: 0.6102 - val_loss: 1.6977 - val_accuracy: 0.5442\n",
      "Epoch 13/20\n",
      "25459/25459 [==============================] - 48s 2ms/sample - loss: 1.4355 - accuracy: 0.6160 - val_loss: 1.5501 - val_accuracy: 0.5439\n",
      "Epoch 14/20\n",
      "25459/25459 [==============================] - 49s 2ms/sample - loss: 1.4322 - accuracy: 0.6170 - val_loss: 1.5537 - val_accuracy: 0.5021\n",
      "Epoch 15/20\n",
      "25459/25459 [==============================] - 47s 2ms/sample - loss: 1.4076 - accuracy: 0.6208 - val_loss: 1.7121 - val_accuracy: 0.5409\n",
      "Epoch 16/20\n",
      "25459/25459 [==============================] - 47s 2ms/sample - loss: 1.4045 - accuracy: 0.6252 - val_loss: 1.6314 - val_accuracy: 0.5287\n",
      "Epoch 17/20\n",
      "25459/25459 [==============================] - 48s 2ms/sample - loss: 1.3966 - accuracy: 0.6295 - val_loss: 1.5915 - val_accuracy: 0.5412\n",
      "Epoch 18/20\n",
      "25459/25459 [==============================] - 48s 2ms/sample - loss: 1.3979 - accuracy: 0.6336 - val_loss: 1.6115 - val_accuracy: 0.5133\n",
      "Epoch 19/20\n",
      "25459/25459 [==============================] - 49s 2ms/sample - loss: 1.3761 - accuracy: 0.6348 - val_loss: 1.6319 - val_accuracy: 0.5416\n",
      "Epoch 20/20\n",
      "25459/25459 [==============================] - 49s 2ms/sample - loss: 1.3669 - accuracy: 0.6387 - val_loss: 1.6245 - val_accuracy: 0.4984\n"
     ]
    }
   ],
   "source": [
    "batch_size = 32\n",
    "history_3 = model_3.fit(X_train, y_train,\\\n",
    "                        epochs=20, batch_size=batch_size,\\\n",
    "                        verbose=1, validation_split=0.2)"
   ]
  },
  {
   "cell_type": "markdown",
   "metadata": {},
   "source": [
    "#### plot training and validation accuracy"
   ]
  },
  {
   "cell_type": "code",
   "execution_count": 22,
   "metadata": {},
   "outputs": [
    {
     "data": {
      "image/png": "[encoded data removed]",
      "text/plain": [
       "<Figure size 432x288 with 1 Axes>"
      ]
     },
     "metadata": {
      "needs_background": "light"
     },
     "output_type": "display_data"
    },
    {
     "data": {
      "image/png": "[encoded data removed]",
      "text/plain": [
       "<Figure size 432x288 with 1 Axes>"
      ]
     },
     "metadata": {
      "needs_background": "light"
     },
     "output_type": "display_data"
    }
   ],
   "source": [
    "plt.plot(history_3.history['accuracy'])\n",
    "plt.plot(history_3.history['val_accuracy'])\n",
    "plt.title('model accuracy')\n",
    "plt.ylabel('accuracy')\n",
    "plt.xlabel('epoch')\n",
    "plt.legend(['train', 'validation'], loc='upper left')\n",
    "plt.show()\n",
    "\n",
    "plt.plot(history_3.history['loss'])\n",
    "plt.plot(history_3.history['val_loss'])\n",
    "plt.title('model loss')\n",
    "plt.ylabel('loss')\n",
    "plt.xlabel('epoch')\n",
    "plt.legend(['train', 'validation'], loc='upper left')\n",
    "plt.show()"
   ]
  },
  {
   "cell_type": "markdown",
   "metadata": {},
   "source": [
    "#### accuracy"
   ]
  },
  {
   "cell_type": "code",
   "execution_count": 23,
   "metadata": {},
   "outputs": [
    {
     "data": {
      "text/plain": [
       "0.5050904977375565"
      ]
     },
     "execution_count": 23,
     "metadata": {},
     "output_type": "execute_result"
    }
   ],
   "source": [
    "y_hat_3 = model_3.predict(X_val)\n",
    "accuracy_score(list(map(lambda x: np.argmax(x), y_val)),\\\n",
    "               list(map(lambda x: np.argmax(x), y_hat_3)))"
   ]
  },
  {
   "cell_type": "markdown",
   "metadata": {},
   "source": [
    "#### confusion matrix"
   ]
  },
  {
   "cell_type": "code",
   "execution_count": 25,
   "metadata": {},
   "outputs": [
    {
     "data": {
      "text/plain": [
       "array([[425, 226,  39,  13,   1],\n",
       "       [187, 326, 174,  43,   3],\n",
       "       [ 25, 101, 477,  97,   4],\n",
       "       [ 23,  70, 182, 324,  55],\n",
       "       [ 19,  22,  56, 410, 234]], dtype=int64)"
      ]
     },
     "execution_count": 25,
     "metadata": {},
     "output_type": "execute_result"
    }
   ],
   "source": [
    "confusion_matrix(list(map(lambda x: np.argmax(x), y_val)),\\\n",
    "                 list(map(lambda x: np.argmax(x), y_hat_3)))"
   ]
  }
 ],
 "metadata": {
  "kernelspec": {
   "display_name": "Python 3",
   "language": "python",
   "name": "python3"
  },
  "language_info": {
   "codemirror_mode": {
    "name": "ipython",
    "version": 3
   },
   "file_extension": ".py",
   "mimetype": "text/x-python",
   "name": "python",
   "nbconvert_exporter": "python",
   "pygments_lexer": "ipython3",
   "version": "3.7.9"
  }
 },
 "nbformat": 4,
 "nbformat_minor": 4
}
