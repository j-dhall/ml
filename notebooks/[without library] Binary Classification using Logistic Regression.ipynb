{
 "cells": [
  {
   "cell_type": "markdown",
   "metadata": {},
   "source": [
    "# [without library] <font color=\"orange\">Binary Classification using Logistic Regression\n",
    "</font>"
   ]
  },
  {
   "cell_type": "markdown",
   "metadata": {},
   "source": [
    "### Based on - [2010] Generative and Discriminative Classifiers : Naive Bayes and Logistic Regression - <font color=magenta>Tom Mitchell</font>"
   ]
  },
  {
   "cell_type": "markdown",
   "metadata": {},
   "source": [
    "## Introduction"
   ]
  },
  {
   "cell_type": "markdown",
   "metadata": {},
   "source": [
    "This notebook implements <font color=blue>Binomial Logistic Regression</font>. It performs <font color=blue>binary classification</font> on a generated dataset consisting of two gaussian distributed clusters of points in a 2-dimensional space. The prediction accuracy for a learning dataset of 100 points is <font color=blue>98-99%</font>.\n",
    "\n",
    "Resources:\n",
    "- [Generative and Discriminative Classifiers : Naive Bayes and Logistic Regression]https://www.cs.cmu.edu/~tom/mlbook/NBayesLogReg.pdf)\n",
    "\n",
    "Towards the end, I have included a <font color=blue>sidebar</font> on the <font color=magenta>Binomial Logistic Regression</font>. "
   ]
  },
  {
   "cell_type": "markdown",
   "metadata": {},
   "source": [
    "## Taxonomy"
   ]
  },
  {
   "cell_type": "markdown",
   "metadata": {},
   "source": []
  },
  {
   "cell_type": "markdown",
   "metadata": {},
   "source": [
    "## Imports"
   ]
  },
  {
   "cell_type": "code",
   "execution_count": 1,
   "metadata": {},
   "outputs": [],
   "source": [
    "from math import log # to calculate posterior probability\n",
    "import numpy as np #arrays for data points\n",
    "from numpy.random import rand, normal, randint #gaussian distributed data points\n",
    "from numpy import dot #vector dot product for the linear kernel\n",
    "from numpy import mean, std #mean and standard deviation for gaussian probabilities\n",
    "from scipy.stats import norm #gaussian probabilities\n",
    "import pandas as pd #input\n",
    "import seaborn as sns #plotting\n",
    "%matplotlib inline"
   ]
  },
  {
   "cell_type": "markdown",
   "metadata": {},
   "source": [
    "## Constants"
   ]
  },
  {
   "cell_type": "code",
   "execution_count": 2,
   "metadata": {},
   "outputs": [],
   "source": [
    "learning_rate = 0.01"
   ]
  },
  {
   "cell_type": "markdown",
   "metadata": {},
   "source": [
    "## X_m, Y"
   ]
  },
  {
   "cell_type": "markdown",
   "metadata": {},
   "source": [
    "### Data Configuration"
   ]
  },
  {
   "cell_type": "code",
   "execution_count": 3,
   "metadata": {},
   "outputs": [],
   "source": [
    "M = 100 #number of data points\n",
    "cols = ['X0', 'X1', 'X2', 'Y'] #column names of the dataframe\n",
    "n_features = len(cols)-1 #number of dimensions\n",
    "K = 2 #number of classes\n",
    "loc_scale = [(5, 1), (10, 1)] #mean and std of data points belonging to each class"
   ]
  },
  {
   "cell_type": "markdown",
   "metadata": {},
   "source": [
    "### Generate Data\n",
    "Gaussian clusters in 2D numpy arrays"
   ]
  },
  {
   "cell_type": "code",
   "execution_count": 4,
   "metadata": {},
   "outputs": [
    {
     "data": {
      "text/plain": [
       "((100, 3), (100,))"
      ]
     },
     "execution_count": 4,
     "metadata": {},
     "output_type": "execute_result"
    }
   ],
   "source": [
    "def generate_X_m_and_Y(M, K, n_features, loc_scale):\n",
    "    #X_m, Y\n",
    "    # we use this extra count (+1) to accomodate for X0 = 1 (the attribute for bias)\n",
    "    X_m = np.ones((K, (int)(M/2), n_features), dtype=float) #initialize data points\n",
    "    Y = np.empty((K, (int)(M/2)), dtype=int) #initialize the class labels\n",
    "\n",
    "    for k in range(K): #for each class, generate data points #create data points for each class\n",
    "        #create data points for class k using gaussian (normal) distribution\n",
    "        X_m[k][:, 1:] = normal(loc=loc_scale[k][0], scale=loc_scale[k][1], size=((int)(M/2), n_features-1))\n",
    "        #append features/columns after the bias (first) column\n",
    "        #X_m[:, 1:] = X\n",
    "        #create labels (0, 1) for class k (0, 1).\n",
    "        Y[k] = np.full(((int)(M/2)), k, dtype=int)\n",
    "    X_m = X_m.reshape(M, n_features) #collapse the class axis\n",
    "    Y = Y.reshape(M) #collapse the class axis\n",
    "    X_m.shape, Y.shape #print shapes\n",
    "    \n",
    "    return X_m, Y\n",
    "\n",
    "X_m, Y = generate_X_m_and_Y(M, K, n_features, loc_scale)\n",
    "X_m.shape, Y.shape"
   ]
  },
  {
   "cell_type": "markdown",
   "metadata": {},
   "source": [
    "### X_m, Y in DataFrame"
   ]
  },
  {
   "cell_type": "code",
   "execution_count": 5,
   "metadata": {},
   "outputs": [
    {
     "data": {
      "text/html": [
       "<div>\n",
       "<style scoped>\n",
       "    .dataframe tbody tr th:only-of-type {\n",
       "        vertical-align: middle;\n",
       "    }\n",
       "\n",
       "    .dataframe tbody tr th {\n",
       "        vertical-align: top;\n",
       "    }\n",
       "\n",
       "    .dataframe thead th {\n",
       "        text-align: right;\n",
       "    }\n",
       "</style>\n",
       "<table border=\"1\" class=\"dataframe\">\n",
       "  <thead>\n",
       "    <tr style=\"text-align: right;\">\n",
       "      <th></th>\n",
       "      <th>X0</th>\n",
       "      <th>X1</th>\n",
       "      <th>X2</th>\n",
       "      <th>Y</th>\n",
       "    </tr>\n",
       "  </thead>\n",
       "  <tbody>\n",
       "    <tr>\n",
       "      <th>51</th>\n",
       "      <td>1.0</td>\n",
       "      <td>8.353118</td>\n",
       "      <td>10.571003</td>\n",
       "      <td>1</td>\n",
       "    </tr>\n",
       "    <tr>\n",
       "      <th>36</th>\n",
       "      <td>1.0</td>\n",
       "      <td>3.603399</td>\n",
       "      <td>4.816312</td>\n",
       "      <td>0</td>\n",
       "    </tr>\n",
       "    <tr>\n",
       "      <th>53</th>\n",
       "      <td>1.0</td>\n",
       "      <td>10.205741</td>\n",
       "      <td>9.484240</td>\n",
       "      <td>1</td>\n",
       "    </tr>\n",
       "    <tr>\n",
       "      <th>5</th>\n",
       "      <td>1.0</td>\n",
       "      <td>6.361893</td>\n",
       "      <td>6.332490</td>\n",
       "      <td>0</td>\n",
       "    </tr>\n",
       "    <tr>\n",
       "      <th>64</th>\n",
       "      <td>1.0</td>\n",
       "      <td>8.147273</td>\n",
       "      <td>10.845056</td>\n",
       "      <td>1</td>\n",
       "    </tr>\n",
       "    <tr>\n",
       "      <th>29</th>\n",
       "      <td>1.0</td>\n",
       "      <td>2.857948</td>\n",
       "      <td>4.605058</td>\n",
       "      <td>0</td>\n",
       "    </tr>\n",
       "    <tr>\n",
       "      <th>60</th>\n",
       "      <td>1.0</td>\n",
       "      <td>10.714859</td>\n",
       "      <td>10.702065</td>\n",
       "      <td>1</td>\n",
       "    </tr>\n",
       "    <tr>\n",
       "      <th>7</th>\n",
       "      <td>1.0</td>\n",
       "      <td>4.363048</td>\n",
       "      <td>3.603280</td>\n",
       "      <td>0</td>\n",
       "    </tr>\n",
       "    <tr>\n",
       "      <th>67</th>\n",
       "      <td>1.0</td>\n",
       "      <td>11.910404</td>\n",
       "      <td>10.167950</td>\n",
       "      <td>1</td>\n",
       "    </tr>\n",
       "    <tr>\n",
       "      <th>61</th>\n",
       "      <td>1.0</td>\n",
       "      <td>7.680741</td>\n",
       "      <td>10.046152</td>\n",
       "      <td>1</td>\n",
       "    </tr>\n",
       "  </tbody>\n",
       "</table>\n",
       "</div>"
      ],
      "text/plain": [
       "     X0         X1         X2  Y\n",
       "51  1.0   8.353118  10.571003  1\n",
       "36  1.0   3.603399   4.816312  0\n",
       "53  1.0  10.205741   9.484240  1\n",
       "5   1.0   6.361893   6.332490  0\n",
       "64  1.0   8.147273  10.845056  1\n",
       "29  1.0   2.857948   4.605058  0\n",
       "60  1.0  10.714859  10.702065  1\n",
       "7   1.0   4.363048   3.603280  0\n",
       "67  1.0  11.910404  10.167950  1\n",
       "61  1.0   7.680741  10.046152  1"
      ]
     },
     "execution_count": 5,
     "metadata": {},
     "output_type": "execute_result"
    }
   ],
   "source": [
    "def create_df_from_array(X_m, Y, n_features, cols):\n",
    "    #create series from each column of X_m, and a series from Y\n",
    "    l_series = [] #list of series, one for each column\n",
    "    for feat in range(n_features): #create series from each column of X_m\n",
    "        l_series.append(pd.Series(X_m[:, feat])) #create series from a column of X_m\n",
    "    l_series.append(pd.Series(Y[:])) #create series from Y\n",
    "\n",
    "    frame = {col : series for col, series in zip(cols, l_series)} #map of column names to series\n",
    "    df = pd.DataFrame(frame) #create dataframe from map\n",
    "\n",
    "    return df\n",
    "\n",
    "df = create_df_from_array(X_m, Y, n_features, cols)\n",
    "df.sample(n = 10)"
   ]
  },
  {
   "cell_type": "code",
   "execution_count": 6,
   "metadata": {},
   "outputs": [
    {
     "data": {
      "text/plain": [
       "<AxesSubplot:xlabel='X1', ylabel='X2'>"
      ]
     },
     "execution_count": 6,
     "metadata": {},
     "output_type": "execute_result"
    },
    {
     "data": {
      "image/png": "[encoded data removed]",
      "text/plain": [
       "<Figure size 432x288 with 1 Axes>"
      ]
     },
     "metadata": {
      "needs_background": "light"
     },
     "output_type": "display_data"
    }
   ],
   "source": [
    "#scatter plot of data points\n",
    "#class column Y is passed in as hue\n",
    "sns.scatterplot(x=cols[1], y=cols[2], hue=cols[3], data=df)"
   ]
  },
  {
   "cell_type": "markdown",
   "metadata": {},
   "source": [
    "## Model"
   ]
  },
  {
   "cell_type": "markdown",
   "metadata": {},
   "source": [
    "### linear combination of weights and coefficients"
   ]
  },
  {
   "cell_type": "code",
   "execution_count": 7,
   "metadata": {},
   "outputs": [],
   "source": [
    "def lin_com(w, x):\n",
    "    return np.dot(w, x)"
   ]
  },
  {
   "cell_type": "markdown",
   "metadata": {},
   "source": [
    "### P(Y=0|X,W)"
   ]
  },
  {
   "cell_type": "code",
   "execution_count": 8,
   "metadata": {},
   "outputs": [],
   "source": [
    "def prob_y0_x(w, x):\n",
    "    lc = lin_com(w, x)\n",
    "    return 1/(1 + np.exp(lc))"
   ]
  },
  {
   "cell_type": "markdown",
   "metadata": {},
   "source": [
    "### P(Y=1|X,W)"
   ]
  },
  {
   "cell_type": "code",
   "execution_count": 9,
   "metadata": {},
   "outputs": [],
   "source": [
    "def prob_y1_x(w, x):\n",
    "    lc = lin_com(w, x)\n",
    "    return np.exp(lc)/(1 + np.exp(lc))"
   ]
  },
  {
   "cell_type": "markdown",
   "metadata": {},
   "source": [
    "### ln(W) = sigma_l (Y * ln(P(Y=1|X,W)) + (1-Y) * ln(P(Y=0|X,W))) - <font color='magenta'>conditional data log-likelihood</font>"
   ]
  },
  {
   "cell_type": "code",
   "execution_count": 10,
   "metadata": {},
   "outputs": [],
   "source": [
    "#conditional data log-likelihood ln(P(Y|X,W))\n",
    "def cond_data_log_likelihood(X_m, Y, w):\n",
    "    likelihood = 0.0\n",
    "    for i in range(len(X_m)):\n",
    "        likelihood += (Y[i]*log(prob_y1_x(w, X_m[i])) + (1 - Y[i])*log(prob_y0_x(w, X_m[i])) )\n",
    "    return (likelihood)"
   ]
  },
  {
   "cell_type": "markdown",
   "metadata": {},
   "source": [
    "### d(ln(W))/dW_i - <font color='magenta'>gradient along attribute 'i'</font>"
   ]
  },
  {
   "cell_type": "code",
   "execution_count": 11,
   "metadata": {},
   "outputs": [],
   "source": [
    "#gradient along the attribute 'j'\n",
    "def gradient(X_m, Y, W, j):\n",
    "    grad = 0.0\n",
    "    #iterate over all data-points\n",
    "    for i in range(len(X_m)):\n",
    "        grad += X_m[i][j]*(Y[i] - prob_y1_x(W, X_m[i]))\n",
    "    return grad"
   ]
  },
  {
   "cell_type": "markdown",
   "metadata": {},
   "source": [
    "### <font color='magenta'>gradients along attributes</font>"
   ]
  },
  {
   "cell_type": "code",
   "execution_count": 12,
   "metadata": {},
   "outputs": [],
   "source": [
    "#gradient along each attribute\n",
    "def gradients(X_m, Y, W):\n",
    "    #gradient along each attribute\n",
    "    grads = np.zeros(len(W), dtype=float)\n",
    "    for j in range(len(W)):\n",
    "        grads[j] = gradient(X_m, Y, W, j)\n",
    "        \n",
    "    return grads"
   ]
  },
  {
   "cell_type": "markdown",
   "metadata": {},
   "source": [
    "### apply gradients on coefficients"
   ]
  },
  {
   "cell_type": "code",
   "execution_count": 13,
   "metadata": {},
   "outputs": [],
   "source": [
    "def apply_gradient(W, grads, learning_rate):\n",
    "    return (W + (learning_rate * grads))"
   ]
  },
  {
   "cell_type": "markdown",
   "metadata": {},
   "source": [
    "### Training Algorithm"
   ]
  },
  {
   "cell_type": "code",
   "execution_count": 14,
   "metadata": {},
   "outputs": [],
   "source": [
    "def train(X_m, Y, W, learning_rate):\n",
    "    #learn\n",
    "    prev_max = cond_data_log_likelihood(X_m, Y, W)\n",
    "    grads = gradients(X_m, Y, W)\n",
    "    W = apply_gradient(W, grads, learning_rate)\n",
    "    new_max = cond_data_log_likelihood(X_m, Y, W)\n",
    "    while(abs(prev_max - new_max) > 0.01):\n",
    "        prev_max = new_max\n",
    "        grads = gradients(X_m, Y, W)\n",
    "        W = apply_gradient(W, grads, learning_rate)\n",
    "        new_max = cond_data_log_likelihood(X_m, Y, W)\n",
    "\n",
    "    return W"
   ]
  },
  {
   "cell_type": "markdown",
   "metadata": {},
   "source": [
    "### Learn"
   ]
  },
  {
   "cell_type": "code",
   "execution_count": 15,
   "metadata": {},
   "outputs": [],
   "source": [
    "#weights\n",
    "W = np.zeros((n_features), dtype=float)\n",
    "W = train(X_m, Y, W, learning_rate)"
   ]
  },
  {
   "cell_type": "markdown",
   "metadata": {},
   "source": [
    "#### <font color=magenta>weights (coefficients)</font>"
   ]
  },
  {
   "cell_type": "code",
   "execution_count": 16,
   "metadata": {
    "scrolled": true
   },
   "outputs": [
    {
     "name": "stdout",
     "output_type": "stream",
     "text": [
      "The learnt weights (coefficients) are: [-24.68237564  -0.39234845   3.66081697]\n"
     ]
    }
   ],
   "source": [
    "print('The learnt weights (coefficients) are:', W)"
   ]
  },
  {
   "cell_type": "markdown",
   "metadata": {},
   "source": [
    "## Prediction"
   ]
  },
  {
   "cell_type": "markdown",
   "metadata": {},
   "source": [
    "### Generate Data\n",
    "Gaussian clusters in 2D numpy arrays"
   ]
  },
  {
   "cell_type": "code",
   "execution_count": 17,
   "metadata": {},
   "outputs": [],
   "source": [
    "X_m, Y = generate_X_m_and_Y(M, K, n_features, loc_scale) #generate test data points"
   ]
  },
  {
   "cell_type": "markdown",
   "metadata": {},
   "source": [
    "### Predict"
   ]
  },
  {
   "cell_type": "code",
   "execution_count": 18,
   "metadata": {},
   "outputs": [],
   "source": [
    "Y_pred = [prob_y1_x(W, X) for X in X_m]\n",
    "Y_pred_class = [0 if y < 0.5 else 1 for y in Y_pred] #decision based on predicted margin"
   ]
  },
  {
   "cell_type": "markdown",
   "metadata": {},
   "source": [
    "### Predicted X_m, Y in DataFrame"
   ]
  },
  {
   "cell_type": "code",
   "execution_count": 19,
   "metadata": {},
   "outputs": [
    {
     "data": {
      "text/html": [
       "<div>\n",
       "<style scoped>\n",
       "    .dataframe tbody tr th:only-of-type {\n",
       "        vertical-align: middle;\n",
       "    }\n",
       "\n",
       "    .dataframe tbody tr th {\n",
       "        vertical-align: top;\n",
       "    }\n",
       "\n",
       "    .dataframe thead th {\n",
       "        text-align: right;\n",
       "    }\n",
       "</style>\n",
       "<table border=\"1\" class=\"dataframe\">\n",
       "  <thead>\n",
       "    <tr style=\"text-align: right;\">\n",
       "      <th></th>\n",
       "      <th>X0</th>\n",
       "      <th>X1</th>\n",
       "      <th>X2</th>\n",
       "      <th>Y</th>\n",
       "      <th>Y_pred_margin</th>\n",
       "      <th>Y_pred_class</th>\n",
       "    </tr>\n",
       "  </thead>\n",
       "  <tbody>\n",
       "    <tr>\n",
       "      <th>80</th>\n",
       "      <td>1.0</td>\n",
       "      <td>8.535469</td>\n",
       "      <td>11.275575</td>\n",
       "      <td>1</td>\n",
       "      <td>9.999982e-01</td>\n",
       "      <td>1</td>\n",
       "    </tr>\n",
       "    <tr>\n",
       "      <th>33</th>\n",
       "      <td>1.0</td>\n",
       "      <td>6.469280</td>\n",
       "      <td>5.947414</td>\n",
       "      <td>0</td>\n",
       "      <td>4.285623e-03</td>\n",
       "      <td>0</td>\n",
       "    </tr>\n",
       "    <tr>\n",
       "      <th>20</th>\n",
       "      <td>1.0</td>\n",
       "      <td>4.462977</td>\n",
       "      <td>4.555431</td>\n",
       "      <td>0</td>\n",
       "      <td>5.789524e-05</td>\n",
       "      <td>0</td>\n",
       "    </tr>\n",
       "    <tr>\n",
       "      <th>19</th>\n",
       "      <td>1.0</td>\n",
       "      <td>6.595669</td>\n",
       "      <td>4.277625</td>\n",
       "      <td>0</td>\n",
       "      <td>9.069587e-06</td>\n",
       "      <td>0</td>\n",
       "    </tr>\n",
       "    <tr>\n",
       "      <th>23</th>\n",
       "      <td>1.0</td>\n",
       "      <td>5.861374</td>\n",
       "      <td>3.942381</td>\n",
       "      <td>0</td>\n",
       "      <td>3.545812e-06</td>\n",
       "      <td>0</td>\n",
       "    </tr>\n",
       "    <tr>\n",
       "      <th>7</th>\n",
       "      <td>1.0</td>\n",
       "      <td>3.843687</td>\n",
       "      <td>5.352134</td>\n",
       "      <td>0</td>\n",
       "      <td>1.362246e-03</td>\n",
       "      <td>0</td>\n",
       "    </tr>\n",
       "    <tr>\n",
       "      <th>93</th>\n",
       "      <td>1.0</td>\n",
       "      <td>9.002853</td>\n",
       "      <td>12.715624</td>\n",
       "      <td>1</td>\n",
       "      <td>1.000000e+00</td>\n",
       "      <td>1</td>\n",
       "    </tr>\n",
       "    <tr>\n",
       "      <th>12</th>\n",
       "      <td>1.0</td>\n",
       "      <td>4.027771</td>\n",
       "      <td>3.934127</td>\n",
       "      <td>0</td>\n",
       "      <td>7.063614e-06</td>\n",
       "      <td>0</td>\n",
       "    </tr>\n",
       "    <tr>\n",
       "      <th>98</th>\n",
       "      <td>1.0</td>\n",
       "      <td>8.830713</td>\n",
       "      <td>9.223774</td>\n",
       "      <td>1</td>\n",
       "      <td>9.963865e-01</td>\n",
       "      <td>1</td>\n",
       "    </tr>\n",
       "    <tr>\n",
       "      <th>8</th>\n",
       "      <td>1.0</td>\n",
       "      <td>6.870983</td>\n",
       "      <td>3.470701</td>\n",
       "      <td>0</td>\n",
       "      <td>4.243973e-07</td>\n",
       "      <td>0</td>\n",
       "    </tr>\n",
       "  </tbody>\n",
       "</table>\n",
       "</div>"
      ],
      "text/plain": [
       "     X0        X1         X2  Y  Y_pred_margin  Y_pred_class\n",
       "80  1.0  8.535469  11.275575  1   9.999982e-01             1\n",
       "33  1.0  6.469280   5.947414  0   4.285623e-03             0\n",
       "20  1.0  4.462977   4.555431  0   5.789524e-05             0\n",
       "19  1.0  6.595669   4.277625  0   9.069587e-06             0\n",
       "23  1.0  5.861374   3.942381  0   3.545812e-06             0\n",
       "7   1.0  3.843687   5.352134  0   1.362246e-03             0\n",
       "93  1.0  9.002853  12.715624  1   1.000000e+00             1\n",
       "12  1.0  4.027771   3.934127  0   7.063614e-06             0\n",
       "98  1.0  8.830713   9.223774  1   9.963865e-01             1\n",
       "8   1.0  6.870983   3.470701  0   4.243973e-07             0"
      ]
     },
     "execution_count": 19,
     "metadata": {},
     "output_type": "execute_result"
    }
   ],
   "source": [
    "df = create_df_from_array(X_m, Y, n_features, cols) #create test dataframe\n",
    "df['Y_pred_margin'] = Y_pred #append the prediction margin column\n",
    "df['Y_pred_class'] = Y_pred_class #append the class\n",
    "df.sample(n = 10)"
   ]
  },
  {
   "cell_type": "code",
   "execution_count": 22,
   "metadata": {},
   "outputs": [
    {
     "data": {
      "text/plain": [
       "<AxesSubplot:xlabel='X1', ylabel='X2'>"
      ]
     },
     "execution_count": 22,
     "metadata": {},
     "output_type": "execute_result"
    },
    {
     "data": {
      "image/png": "[encoded data removed]",
      "text/plain": [
       "<Figure size 432x288 with 1 Axes>"
      ]
     },
     "metadata": {
      "needs_background": "light"
     },
     "output_type": "display_data"
    }
   ],
   "source": [
    "#scatter plot of data points\n",
    "#class column Y is passed in as hue\n",
    "sns.scatterplot(x=cols[1], y=cols[2], hue='Y_pred_class', data=df)"
   ]
  },
  {
   "cell_type": "markdown",
   "metadata": {},
   "source": [
    "### <font color=magenta>Prediction Accuracy</font>"
   ]
  },
  {
   "cell_type": "code",
   "execution_count": 23,
   "metadata": {},
   "outputs": [
    {
     "name": "stdout",
     "output_type": "stream",
     "text": [
      "Accuracy: 99.0 %\n"
     ]
    }
   ],
   "source": [
    "Y_pred_corr = (Y==Y_pred_class)\n",
    "num_corr = len(Y_pred_corr[Y_pred_corr == True])\n",
    "print('Accuracy:', (num_corr/M)*100, '%')"
   ]
  }
 ],
 "metadata": {
  "kernelspec": {
   "display_name": "Python 3",
   "language": "python",
   "name": "python3"
  },
  "language_info": {
   "codemirror_mode": {
    "name": "ipython",
    "version": 3
   },
   "file_extension": ".py",
   "mimetype": "text/x-python",
   "name": "python",
   "nbconvert_exporter": "python",
   "pygments_lexer": "ipython3",
   "version": "3.7.9"
  }
 },
 "nbformat": 4,
 "nbformat_minor": 4
}
