{
 "cells": [
  {
   "cell_type": "markdown",
   "metadata": {},
   "source": [
    "## <font color=\"orange\">Gaussian Naive Bayes for MNIST Digits Classification</font>"
   ]
  },
  {
   "cell_type": "markdown",
   "metadata": {},
   "source": [
    "### Imports"
   ]
  },
  {
   "cell_type": "code",
   "execution_count": 1,
   "metadata": {},
   "outputs": [],
   "source": [
    "import math #to check for nan\n",
    "import numpy as np\n",
    "from numpy import mean, std #mean and standard deviation for gaussian probabilities\n",
    "from scipy.stats import norm #gaussian probabilities\n",
    "from math import log # to calculate posterior probability\n",
    "import tensorflow as tf\n",
    "import matplotlib.pyplot as plt #display images of digits"
   ]
  },
  {
   "cell_type": "markdown",
   "metadata": {},
   "source": [
    "### Data"
   ]
  },
  {
   "cell_type": "markdown",
   "metadata": {},
   "source": [
    "#### Load mnist data from Tensorflow Keras library"
   ]
  },
  {
   "cell_type": "code",
   "execution_count": 2,
   "metadata": {},
   "outputs": [],
   "source": [
    "(x_train, y_train), (x_test, y_test) = tf.keras.datasets.mnist.load_data()"
   ]
  },
  {
   "cell_type": "markdown",
   "metadata": {},
   "source": [
    "#### Sanity check for data getting loaded"
   ]
  },
  {
   "cell_type": "code",
   "execution_count": 3,
   "metadata": {},
   "outputs": [
    {
     "name": "stdout",
     "output_type": "stream",
     "text": [
      "[(60000, 28, 28), (60000,), (10000, 28, 28), (10000,)]\n",
      "[<class 'numpy.ndarray'>, <class 'numpy.ndarray'>, <class 'numpy.ndarray'>, <class 'numpy.ndarray'>]\n",
      "classes, num_classes:  [0 1 2 3 4 5 6 7 8 9] 10\n"
     ]
    }
   ],
   "source": [
    "print([i.shape for i in (x_train, y_train, x_test, y_test)])\n",
    "print([type(i) for i in (x_train, y_train, x_test, y_test)])\n",
    "print('classes, num_classes: ', np.unique(y_train), len(np.unique(y_train)))"
   ]
  },
  {
   "cell_type": "markdown",
   "metadata": {},
   "source": [
    "### Model"
   ]
  },
  {
   "cell_type": "markdown",
   "metadata": {},
   "source": [
    "#### Training Algorithm"
   ]
  },
  {
   "cell_type": "code",
   "execution_count": 4,
   "metadata": {},
   "outputs": [],
   "source": [
    "'''\n",
    "    return\n",
    "            classes: (list) of unique class names in the dataset,\n",
    "             got from the last column named class_colname.\n",
    "             \n",
    "            features: (list) of features (column names) in the dataset.\n",
    "             this excludes the last column which we expect it to have the class labels.\n",
    "             \n",
    "            prior: (1-d array) of dim num_classes\n",
    "            (prior probability of a set of features belonging to a class)\n",
    "            \n",
    "            mean_std: (3-d array) of dim num_classes x num_features x 2 (2: mean and std)\n",
    "            (mean and standard deviation for all features, given the class)\n",
    "            \n",
    "    arguments:\n",
    "    df: (dataframe) with features and class names (should have a 'class' column in addition to the feature columns).\n",
    "    class_colname: (string) provide suitable column name otherwise, using the class_colname argument.\n",
    "'''\n",
    "def train_gaussian_nb(X, y):\n",
    "    #number of classes\n",
    "    classes = np.unique(y)\n",
    "    num_classes = len(classes)\n",
    "    #number of data points and features\n",
    "    N, dim_x, dim_y = X.shape[0], X.shape[1], X.shape[2]\n",
    "    \n",
    "    #data structures for priors and\n",
    "    # (mean, standard deviation) pairs for each feature and class\n",
    "    # to later calculate likelihood (conditional probability of feature given class)\n",
    "    prior = np.zeros(num_classes, dtype=float)\n",
    "    X_mean = np.empty((num_classes, dim_x, dim_y), dtype=float)\n",
    "    X_std = np.empty((num_classes, dim_x, dim_y), dtype=float)\n",
    "    \n",
    "    #for each class...\n",
    "    for cls in range(num_classes):\n",
    "        #use a boolean index list to extract images of this class\n",
    "        bool_idx_list = [True if c==cls else False for c in y]\n",
    "        X_cls = X[bool_idx_list]\n",
    "        \n",
    "        #calculate prior probability of data point belonging to class cls\n",
    "        prior[cls] = len(X_cls) / N\n",
    "\n",
    "        #for each dim_x by dim_y, calculate mean and std, across all data points of this class\n",
    "        X_mean[cls] = mean(X_cls, axis=0)\n",
    "        X_std[cls] = std(X_cls, axis=0)\n",
    "            \n",
    "    return classes, dim_x, dim_y, prior, X_mean, X_std"
   ]
  },
  {
   "cell_type": "markdown",
   "metadata": {},
   "source": [
    "#### Prediction Algorithm"
   ]
  },
  {
   "cell_type": "markdown",
   "metadata": {},
   "source": [
    "##### original straightforward approach"
   ]
  },
  {
   "cell_type": "code",
   "execution_count": 5,
   "metadata": {},
   "outputs": [],
   "source": [
    "'''\n",
    "    return (integer) the (0-based) index of class to which the document belongs\n",
    "    \n",
    "    arguments:\n",
    "    num_classes: (int) number of classes\n",
    "    num_features: (int) number of features\n",
    "    prior: (1-d array) of dim num_classes\n",
    "           (prior probability of a set of features belonging to a class)\n",
    "    mean_std: (3-d array) of dim num_classes x num_features x 2 (2: mean and std)\n",
    "              (mean and standard deviation for all features, given the class)\n",
    "    x: (list) of features\n",
    "'''\n",
    "def apply_gaussian_naive_bayes(num_classes, dim_x, dim_y, prior, X_mean, X_std, x):\n",
    "    score = np.zeros((num_classes), dtype=float)\n",
    "    \n",
    "    #for each class...\n",
    "    for cls in range(num_classes):\n",
    "        \n",
    "        #for this class, add the log-prior probability to the score\n",
    "        score[cls] += log(prior[cls], 10) #log to the base 10\n",
    "        \n",
    "        #for each feature, add the log-likelihood to the score\n",
    "        for i_x in range(dim_x):\n",
    "            for i_y in range(dim_y):\n",
    "                #calculate likelihood from the trained mean and standard deviation\n",
    "                mu = X_mean[cls][i_x][i_y]\n",
    "                sigma = X_std[cls][i_x][i_y]\n",
    "                likelihood = norm(mu, sigma).pdf(x[i_x][i_y])\n",
    "                #print(mu, sigma, x[i_x][i_y], likelihood)\n",
    "\n",
    "                #add the log-likelihood to the score\n",
    "                \n",
    "                #ValueError exception raised if likelihood is 0 and we take a log.\n",
    "                #To avoid this, we skip adding log_likelihood to the score.\n",
    "                #We may argue that score should be penalized for\n",
    "                # such a great mismatch of pixel intensity for a class,\n",
    "                # but, these pixels are more of a candidate of noise, and can be ignored.\n",
    "                #Also, skip NaN values for likelihood (when mu and sigma are 0 and so is x)\n",
    "                if (math.isnan(likelihood) == True or likelihood == 0):\n",
    "                    continue\n",
    "                \n",
    "                #print(likelihood)\n",
    "                score[cls] += log(likelihood, 10) #log to the base 10\n",
    "\n",
    "    #return the index of class with the maximum-a-posterior probability\n",
    "    return score.argmax()"
   ]
  },
  {
   "cell_type": "markdown",
   "metadata": {},
   "source": [
    "##### applying function on dim_x x dim_y matrix approach"
   ]
  },
  {
   "cell_type": "markdown",
   "metadata": {},
   "source": [
    "I thought applying function axis-wise will run faster. But, it <font color=\"red\">takes about the same time</font>."
   ]
  },
  {
   "cell_type": "code",
   "execution_count": 6,
   "metadata": {},
   "outputs": [],
   "source": [
    "'''\n",
    "    return (float) log-likelihood for a pixel in a data-point\n",
    "    \n",
    "    description: for a class, this function is called dim_x by dim_y times, once for each pixel.\n",
    "    \n",
    "    arguments:\n",
    "    a: (array of dim 3) an array having mu, sigma, and a pixel of x\n",
    "'''\n",
    "def f_norm(a):\n",
    "    #very important to keep it float.\n",
    "    #a difference of ~300 was observed (e.g. score|class = -1400 instead of -1700)\n",
    "    # if log_like was = 0 (int) instead of 0.0 (float)\n",
    "    # looks like something to do with log_like = log(likelihood, 10)\n",
    "    log_like = 0.0\n",
    "\n",
    "    #a[0] has mu, a[1] has sigma, and a[2]has a pixel of x\n",
    "    likelihood =  norm(a[0], a[1]).pdf(a[2])\n",
    "    if (math.isnan(likelihood) == True or likelihood == 0):\n",
    "        return log_like\n",
    "    \n",
    "    #print(likelihood)\n",
    "    log_like = log(likelihood, 10) #log to the base 10\n",
    "    \n",
    "    return log_like\n",
    "\n",
    "'''\n",
    "    return (integer) the (0-based) index of class to which the document belongs\n",
    "    \n",
    "    arguments:\n",
    "    num_classes: (int) number of classes\n",
    "    num_features: (int) number of features\n",
    "    prior: (1-d array) of dim num_classes\n",
    "           (prior probability of a set of features belonging to a class)\n",
    "    mean_std: (3-d array) of dim num_classes x num_features x 2 (2: mean and std)\n",
    "              (mean and standard deviation for all features, given the class)\n",
    "    x: (list) of features\n",
    "'''\n",
    "def apply_gaussian_naive_bayes_fast(num_classes, dim_x, dim_y, prior, X_mean, X_std, x):\n",
    "    score = np.zeros((num_classes), dtype=float)\n",
    "    \n",
    "    #for each class...\n",
    "    for cls in range(num_classes):\n",
    "        \n",
    "        #for this class, add the log-prior probability to the score\n",
    "        score[cls] += log(prior[cls], 10) #log to the base 10\n",
    "        \n",
    "        norm_matrices = np.empty((3, dim_x, dim_y), dtype=float)\n",
    "        norm_matrices[0] = X_mean[cls]\n",
    "        norm_matrices[1] =  X_std[cls]\n",
    "        norm_matrices[2] = x\n",
    "        \n",
    "        log_like_x_y = np.apply_along_axis(f_norm, 0, norm_matrices)\n",
    "        \n",
    "        score[cls] += np.sum(log_like_x_y)\n",
    "\n",
    "    #return the index of class with the maximum-a-posterior probability\n",
    "    return score.argmax()"
   ]
  },
  {
   "cell_type": "markdown",
   "metadata": {},
   "source": [
    "#### Training"
   ]
  },
  {
   "cell_type": "code",
   "execution_count": 8,
   "metadata": {},
   "outputs": [],
   "source": [
    "#train the prior and likelihood on observed data (x_train, y_train)\n",
    "classes, dim_x, dim_y, prior, X_mean, X_std = train_gaussian_nb(x_train, y_train)"
   ]
  },
  {
   "cell_type": "markdown",
   "metadata": {},
   "source": [
    "#### Sanity check the trained mean and standard deviation"
   ]
  },
  {
   "cell_type": "code",
   "execution_count": 15,
   "metadata": {},
   "outputs": [
    {
     "data": {
      "text/plain": [
       "array([0.09871667, 0.11236667, 0.0993    , 0.10218333, 0.09736667,\n",
       "       0.09035   , 0.09863333, 0.10441667, 0.09751667, 0.09915   ])"
      ]
     },
     "execution_count": 15,
     "metadata": {},
     "output_type": "execute_result"
    }
   ],
   "source": [
    "prior"
   ]
  },
  {
   "cell_type": "code",
   "execution_count": 16,
   "metadata": {},
   "outputs": [
    {
     "data": {
      "text/plain": [
       "<matplotlib.image.AxesImage at 0x23cbb9b0388>"
      ]
     },
     "execution_count": 16,
     "metadata": {},
     "output_type": "execute_result"
    },
    {
     "data": {
      "image/png": "[encoded data removed]",
      "text/plain": [
       "<Figure size 432x288 with 1 Axes>"
      ]
     },
     "metadata": {
      "needs_background": "light"
     },
     "output_type": "display_data"
    }
   ],
   "source": [
    "import matplotlib.pyplot as plt\n",
    "plt.imshow(X_mean[3])"
   ]
  },
  {
   "cell_type": "code",
   "execution_count": 17,
   "metadata": {},
   "outputs": [
    {
     "data": {
      "text/plain": [
       "<matplotlib.image.AxesImage at 0x23cbba53e48>"
      ]
     },
     "execution_count": 17,
     "metadata": {},
     "output_type": "execute_result"
    },
    {
     "data": {
      "image/png": "[encoded data removed]",
      "text/plain": [
       "<Figure size 432x288 with 1 Axes>"
      ]
     },
     "metadata": {
      "needs_background": "light"
     },
     "output_type": "display_data"
    }
   ],
   "source": [
    "plt.imshow(X_std[3])"
   ]
  },
  {
   "cell_type": "markdown",
   "metadata": {},
   "source": [
    "###### time performance comparison of apply_gaussian_naive_bayes with apply_gaussian_naive_bayes<font color=\"magenta\">_fast</font>"
   ]
  },
  {
   "cell_type": "code",
   "execution_count": 9,
   "metadata": {},
   "outputs": [
    {
     "name": "stderr",
     "output_type": "stream",
     "text": [
      "C:\\Users\\jeete\\.conda\\envs\\Python37Env\\lib\\site-packages\\scipy\\stats\\_distn_infrastructure.py:1760: RuntimeWarning: invalid value encountered in double_scalars\n",
      "  x = np.asarray((x - loc)/scale, dtype=dtyp)\n",
      "C:\\Users\\jeete\\.conda\\envs\\Python37Env\\lib\\site-packages\\scipy\\stats\\_distn_infrastructure.py:1760: RuntimeWarning: divide by zero encountered in double_scalars\n",
      "  x = np.asarray((x - loc)/scale, dtype=dtyp)\n"
     ]
    },
    {
     "name": "stdout",
     "output_type": "stream",
     "text": [
      "6.773550033569336\n",
      "6.2529566287994385\n",
      "7\n",
      "7\n"
     ]
    }
   ],
   "source": [
    "import time\n",
    "\n",
    "start = time.time()\n",
    "pred_cls = apply_gaussian_naive_bayes(len(classes), dim_x, dim_y, prior, X_mean, X_std, x_test[0])\n",
    "end = time.time()\n",
    "print(end - start)\n",
    "\n",
    "start = time.time()\n",
    "pred_cls_fast = apply_gaussian_naive_bayes_fast(len(classes), dim_x, dim_y, prior, X_mean, X_std, x_test[0])\n",
    "end = time.time()\n",
    "print(end - start)\n",
    "\n",
    "print(pred_cls)\n",
    "print(pred_cls_fast)\n",
    "\n",
    "#output\n",
    "#6.216400146484375\n",
    "#6.311165809631348\n",
    "#7\n",
    "#7"
   ]
  },
  {
   "cell_type": "markdown",
   "metadata": {},
   "source": [
    "#### Prediction"
   ]
  },
  {
   "cell_type": "code",
   "execution_count": 10,
   "metadata": {},
   "outputs": [
    {
     "name": "stdout",
     "output_type": "stream",
     "text": [
      "(predicted, actual): 7 7\n",
      "(predicted, actual): 2 2\n",
      "(predicted, actual): 1 1\n",
      "(predicted, actual): 0 0\n",
      "(predicted, actual): 9 4\n",
      "(predicted, actual): 1 1\n",
      "(predicted, actual): 8 4\n",
      "(predicted, actual): 9 9\n",
      "(predicted, actual): 4 5\n",
      "(predicted, actual): 9 9\n",
      "(predicted, actual): 0 0\n",
      "(predicted, actual): 6 6\n",
      "(predicted, actual): 9 9\n",
      "(predicted, actual): 0 0\n",
      "(predicted, actual): 1 1\n",
      "(predicted, actual): 0 5\n",
      "(predicted, actual): 9 9\n",
      "(predicted, actual): 7 7\n",
      "(predicted, actual): 2 3\n",
      "(predicted, actual): 9 4\n",
      "(predicted, actual): 9 9\n",
      "(predicted, actual): 6 6\n",
      "(predicted, actual): 6 6\n",
      "(predicted, actual): 8 5\n",
      "(predicted, actual): 9 4\n",
      "(predicted, actual): 0 0\n",
      "(predicted, actual): 9 7\n",
      "(predicted, actual): 9 4\n",
      "(predicted, actual): 0 0\n",
      "(predicted, actual): 1 1\n",
      "(predicted, actual): 9 3\n",
      "(predicted, actual): 1 1\n",
      "(predicted, actual): 3 3\n",
      "(predicted, actual): 0 4\n",
      "(predicted, actual): 7 7\n",
      "(predicted, actual): 0 2\n",
      "(predicted, actual): 7 7\n",
      "(predicted, actual): 1 1\n",
      "(predicted, actual): 8 2\n",
      "(predicted, actual): 1 1\n",
      "(predicted, actual): 1 1\n",
      "(predicted, actual): 9 7\n",
      "(predicted, actual): 9 4\n",
      "(predicted, actual): 6 2\n",
      "(predicted, actual): 3 3\n",
      "(predicted, actual): 8 5\n",
      "(predicted, actual): 8 1\n",
      "(predicted, actual): 6 2\n",
      "(predicted, actual): 9 4\n",
      "(predicted, actual): 4 4\n",
      "(predicted, actual): 6 6\n",
      "(predicted, actual): 3 3\n",
      "(predicted, actual): 8 5\n",
      "(predicted, actual): 0 5\n",
      "(predicted, actual): 6 6\n",
      "(predicted, actual): 0 0\n",
      "(predicted, actual): 4 4\n",
      "(predicted, actual): 1 1\n",
      "(predicted, actual): 9 9\n",
      "(predicted, actual): 8 5\n",
      "(predicted, actual): 7 7\n",
      "(predicted, actual): 8 8\n",
      "(predicted, actual): 9 9\n",
      "(predicted, actual): 3 3\n",
      "(predicted, actual): 7 7\n",
      "(predicted, actual): 1 4\n",
      "(predicted, actual): 6 6\n",
      "(predicted, actual): 4 4\n",
      "(predicted, actual): 8 3\n",
      "(predicted, actual): 0 0\n",
      "(predicted, actual): 7 7\n",
      "(predicted, actual): 0 0\n",
      "(predicted, actual): 3 2\n",
      "(predicted, actual): 9 9\n",
      "(predicted, actual): 1 1\n",
      "(predicted, actual): 7 7\n",
      "(predicted, actual): 3 3\n",
      "(predicted, actual): 2 2\n",
      "(predicted, actual): 9 9\n",
      "(predicted, actual): 7 7\n",
      "(predicted, actual): 9 7\n",
      "(predicted, actual): 6 6\n",
      "(predicted, actual): 2 2\n",
      "(predicted, actual): 9 7\n",
      "(predicted, actual): 8 8\n",
      "(predicted, actual): 4 4\n",
      "(predicted, actual): 9 7\n",
      "(predicted, actual): 3 3\n",
      "(predicted, actual): 6 6\n",
      "(predicted, actual): 1 1\n",
      "(predicted, actual): 3 3\n",
      "(predicted, actual): 6 6\n",
      "(predicted, actual): 9 9\n",
      "(predicted, actual): 8 3\n",
      "(predicted, actual): 1 1\n",
      "(predicted, actual): 4 4\n",
      "(predicted, actual): 1 1\n",
      "(predicted, actual): 4 7\n",
      "(predicted, actual): 6 6\n",
      "(predicted, actual): 9 9\n",
      "Correct:  68 Incorrect:  32\n",
      "Percentage of correct predictions:  68.0\n"
     ]
    }
   ],
   "source": [
    "#iterate over test dataset and count the number of correct and incorrect predictions\n",
    "count_correct, count_incorrect = 0, 0\n",
    "#since each prediction is taking ~6 seconds, we can predict 10 digits per minute.\n",
    "#allowing the classification to run for 10 minutes, we will have 100 predictions.\n",
    "#so, setting the range as 0..100\n",
    "for i in range(100): #len(x_test)):\n",
    "    #actual class\n",
    "    actual_cls = y_test[i]\n",
    "    #predicted class\n",
    "    # input provided as row[:-1].to_list(), means, all columns except last, converted to a list\n",
    "    pred_cls = apply_gaussian_naive_bayes(len(classes), dim_x, dim_y, prior, X_mean, X_std, x_test[i])\n",
    "    if classes[pred_cls] == actual_cls:\n",
    "        count_correct += 1\n",
    "    else:\n",
    "        count_incorrect += 1\n",
    "    print('(predicted, actual):', pred_cls, actual_cls)\n",
    "print('Correct: ', count_correct, 'Incorrect: ', count_incorrect)\n",
    "print('Percentage of correct predictions: ', (count_correct * 100)/(count_correct + count_incorrect))"
   ]
  }
 ],
 "metadata": {
  "kernelspec": {
   "display_name": "Python 3",
   "language": "python",
   "name": "python3"
  },
  "language_info": {
   "codemirror_mode": {
    "name": "ipython",
    "version": 3
   },
   "file_extension": ".py",
   "mimetype": "text/x-python",
   "name": "python",
   "nbconvert_exporter": "python",
   "pygments_lexer": "ipython3",
   "version": "3.7.9"
  }
 },
 "nbformat": 4,
 "nbformat_minor": 4
}
