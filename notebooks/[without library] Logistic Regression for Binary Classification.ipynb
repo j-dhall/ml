{
 "cells": [
  {
   "cell_type": "markdown",
   "metadata": {},
   "source": [
    "# [without library] <font color=\"orange\">Logistic Regression for Binary Classification\n",
    "</font>"
   ]
  },
  {
   "cell_type": "markdown",
   "metadata": {},
   "source": [
    "### Based on [2010] Generative and Discriminative Classifiers - Naive Bayes and Logistic Regression - <font color=magenta>Tom Mitchell</font>"
   ]
  },
  {
   "cell_type": "markdown",
   "metadata": {},
   "source": [
    "### Imports"
   ]
  },
  {
   "cell_type": "code",
   "execution_count": 1,
   "metadata": {},
   "outputs": [],
   "source": [
    "import numpy as np #arrays for data points\n",
    "import pandas as pd #input\n",
    "from numpy.random import rand\n",
    "from numpy import mean, std #mean and standard deviation for gaussian probabilities\n",
    "from scipy.stats import norm #gaussian probabilities\n",
    "from math import log # to calculate posterior probability"
   ]
  },
  {
   "cell_type": "markdown",
   "metadata": {},
   "source": [
    "### Constants"
   ]
  },
  {
   "cell_type": "code",
   "execution_count": 2,
   "metadata": {},
   "outputs": [],
   "source": [
    "learning_rate = 0.01"
   ]
  },
  {
   "cell_type": "markdown",
   "metadata": {},
   "source": [
    "### Environment"
   ]
  },
  {
   "cell_type": "markdown",
   "metadata": {},
   "source": [
    "#### Machine Learning Mastery\n",
    "\n",
    "<img src=\"../assets/images/MLMastery-LogisticRegression.png\">"
   ]
  },
  {
   "cell_type": "code",
   "execution_count": 3,
   "metadata": {},
   "outputs": [],
   "source": [
    "f_data = '../input/ml_mastery/MLMastery-LogisticRegression.csv'"
   ]
  },
  {
   "cell_type": "markdown",
   "metadata": {},
   "source": [
    "### Data"
   ]
  },
  {
   "cell_type": "markdown",
   "metadata": {},
   "source": [
    "#### read the csv file"
   ]
  },
  {
   "cell_type": "code",
   "execution_count": 4,
   "metadata": {},
   "outputs": [],
   "source": [
    "#read the csv file\n",
    "df = pd.read_csv(f_data)"
   ]
  },
  {
   "cell_type": "markdown",
   "metadata": {},
   "source": [
    "#### Sanity check for data getting loaded"
   ]
  },
  {
   "cell_type": "code",
   "execution_count": 5,
   "metadata": {},
   "outputs": [
    {
     "name": "stdout",
     "output_type": "stream",
     "text": [
      "         X1        X2  Y\n",
      "0  2.781084  2.550537  0\n",
      "1  1.465489  2.362125  0\n"
     ]
    }
   ],
   "source": [
    "print(df.head(2))"
   ]
  },
  {
   "cell_type": "markdown",
   "metadata": {},
   "source": [
    "### Model"
   ]
  },
  {
   "cell_type": "markdown",
   "metadata": {},
   "source": [
    "#### Helper Functions"
   ]
  },
  {
   "cell_type": "markdown",
   "metadata": {},
   "source": [
    "##### linear combination of weights and coefficients"
   ]
  },
  {
   "cell_type": "code",
   "execution_count": 6,
   "metadata": {},
   "outputs": [],
   "source": [
    "def lin_com(w, x):\n",
    "    return np.dot(w, x)"
   ]
  },
  {
   "cell_type": "markdown",
   "metadata": {},
   "source": [
    "##### P(Y=0|X,W)"
   ]
  },
  {
   "cell_type": "code",
   "execution_count": 7,
   "metadata": {},
   "outputs": [],
   "source": [
    "def prob_y0_x(w, x):\n",
    "    lc = lin_com(w, x)\n",
    "    return 1/(1 + np.exp(lc))"
   ]
  },
  {
   "cell_type": "markdown",
   "metadata": {},
   "source": [
    "##### P(Y=1|X,W)"
   ]
  },
  {
   "cell_type": "code",
   "execution_count": 8,
   "metadata": {},
   "outputs": [],
   "source": [
    "def prob_y1_x(w, x):\n",
    "    lc = lin_com(w, x)\n",
    "    return np.exp(lc)/(1 + np.exp(lc))"
   ]
  },
  {
   "cell_type": "markdown",
   "metadata": {},
   "source": [
    "##### ln(W) = sigma_l (Y * ln(P(Y=1|X,W)) + (1-Y) * ln(P(Y=0|X,W))) - <font color='magenta'>conditional data log-likelihood</font>"
   ]
  },
  {
   "cell_type": "code",
   "execution_count": 9,
   "metadata": {},
   "outputs": [],
   "source": [
    "#conditional data log-likelihood ln(P(Y|X,W))\n",
    "def cond_data_log_likelihood(X, Y, w):\n",
    "    likelihood = 0.0\n",
    "    for l in range(len(X)):\n",
    "        likelihood += (Y[l]*log(prob_y1_x(w, X[l])) + (1 - Y[l])*log(prob_y0_x(w, X[l])) )\n",
    "    return (likelihood)"
   ]
  },
  {
   "cell_type": "markdown",
   "metadata": {},
   "source": [
    "##### d(ln(W))/dW_i - <font color='magenta'>gradient along attribute 'i'</font>"
   ]
  },
  {
   "cell_type": "code",
   "execution_count": 10,
   "metadata": {},
   "outputs": [],
   "source": [
    "#gradient along the attribute 'i'\n",
    "def gradient(X, Y, w, i):\n",
    "    grad = 0.0\n",
    "    #iterate over all data-points\n",
    "    for l in range(len(X)):\n",
    "        grad += X[l][i]*(Y[l] - prob_y1_x(w, X[l]))\n",
    "    return grad"
   ]
  },
  {
   "cell_type": "markdown",
   "metadata": {},
   "source": [
    "##### <font color='magenta'>gradients along attributes</font>"
   ]
  },
  {
   "cell_type": "code",
   "execution_count": 11,
   "metadata": {},
   "outputs": [],
   "source": [
    "#gradient along each attribute\n",
    "def gradients(X, Y, w):\n",
    "    #gradient along each attribute\n",
    "    grads = np.zeros(len(w), dtype=float)\n",
    "    for i in range(len(w)):\n",
    "        grads[i] = gradient(X, Y, w, i)\n",
    "        \n",
    "    return grads"
   ]
  },
  {
   "cell_type": "markdown",
   "metadata": {},
   "source": [
    "##### apply gradients on coefficients"
   ]
  },
  {
   "cell_type": "code",
   "execution_count": 12,
   "metadata": {},
   "outputs": [],
   "source": [
    "def apply_gradient(w, grads, learning_rate):\n",
    "    return (w + (learning_rate * grads))"
   ]
  },
  {
   "cell_type": "markdown",
   "metadata": {},
   "source": [
    "#### Training Algorithm"
   ]
  },
  {
   "cell_type": "code",
   "execution_count": 13,
   "metadata": {},
   "outputs": [],
   "source": [
    "def train(X, Y, w, learning_rate):\n",
    "    #learn\n",
    "    prev_max = cond_data_log_likelihood(X, Y, w)\n",
    "    grads = gradients(X, Y, w)\n",
    "    w = apply_gradient(w, grads, learning_rate)\n",
    "    new_max = cond_data_log_likelihood(X, Y, w)\n",
    "    while(abs(prev_max - new_max) > 0.01):\n",
    "        prev_max = new_max\n",
    "        grads = gradients(X, Y, w)\n",
    "        w = apply_gradient(w, grads, learning_rate)\n",
    "        new_max = cond_data_log_likelihood(X, Y, w)\n",
    "\n",
    "    return w"
   ]
  },
  {
   "cell_type": "markdown",
   "metadata": {},
   "source": [
    "#### Train"
   ]
  },
  {
   "cell_type": "code",
   "execution_count": 14,
   "metadata": {},
   "outputs": [],
   "source": [
    "#prepare X and Y\n",
    "\n",
    "N = len(df) #number of datapoints\n",
    "#even though len(df_columns) adds +1 for the class column 'Y',\n",
    "# we use this extra count to accomodate for X0 = 1 (the attribute for bias)\n",
    "num_attributes = len(df.columns) #number of attributes\n",
    "X_attr = df.loc[:, df.columns != 'Y'].to_numpy() #input attributes\n",
    "X = np.ones((N, num_attributes), dtype=float) #input + bias attribute\n",
    "X[:, 1:] = X_attr\n",
    "Y = df.loc[:, df.columns == 'Y'].to_numpy()\n",
    "\n",
    "#weights\n",
    "w = np.zeros((num_attributes), dtype=float)\n",
    "w = train(X, Y, w, learning_rate)"
   ]
  },
  {
   "cell_type": "markdown",
   "metadata": {},
   "source": [
    "##### weights (coefficients)"
   ]
  },
  {
   "cell_type": "code",
   "execution_count": 15,
   "metadata": {},
   "outputs": [
    {
     "name": "stdout",
     "output_type": "stream",
     "text": [
      "The learnt weights (coefficients) are: [-0.48985449  0.99888324 -1.4328438 ]\n"
     ]
    }
   ],
   "source": [
    "print('The learnt weights (coefficients) are:', w)"
   ]
  },
  {
   "cell_type": "markdown",
   "metadata": {},
   "source": [
    "#### Predict"
   ]
  },
  {
   "cell_type": "code",
   "execution_count": 16,
   "metadata": {},
   "outputs": [],
   "source": [
    "#predict for class=1\n",
    "N = len(df) #number of datapoints\n",
    "y_pred = np.zeros(N, dtype=float)\n",
    "for i in range(N):\n",
    "    x = X[i]\n",
    "    y_pred[i] = prob_y1_x(w, x)"
   ]
  },
  {
   "cell_type": "markdown",
   "metadata": {},
   "source": [
    "##### accuracy"
   ]
  },
  {
   "cell_type": "code",
   "execution_count": 17,
   "metadata": {},
   "outputs": [],
   "source": [
    "matches = sum([int(pred==actual) for pred, actual in zip(y_pred>0.5, Y.reshape(len(Y))>0)])"
   ]
  },
  {
   "cell_type": "code",
   "execution_count": 18,
   "metadata": {},
   "outputs": [
    {
     "name": "stdout",
     "output_type": "stream",
     "text": [
      "Accuracy is 100.0 percent.\n"
     ]
    }
   ],
   "source": [
    "print('Accuracy is', (matches*100)/len(Y), 'percent.')"
   ]
  },
  {
   "cell_type": "markdown",
   "metadata": {},
   "source": [
    "##### plot the predictions"
   ]
  },
  {
   "cell_type": "code",
   "execution_count": 19,
   "metadata": {},
   "outputs": [
    {
     "data": {
      "image/png": "[encoded data removed]",
      "text/plain": [
       "<Figure size 432x288 with 1 Axes>"
      ]
     },
     "metadata": {
      "needs_background": "light"
     },
     "output_type": "display_data"
    }
   ],
   "source": [
    "#plot\n",
    "#matplotlib inline\n",
    "import matplotlib.pyplot as plt\n",
    "\n",
    "fig = plt.figure()\n",
    "ax = plt.axes(projection='3d')\n",
    "ax.scatter3D(X[:, 1], X[:, 2], y_pred, c = (y_pred>0.5))\n",
    "plt.show()"
   ]
  },
  {
   "cell_type": "code",
   "execution_count": 20,
   "metadata": {},
   "outputs": [
    {
     "name": "stdout",
     "output_type": "stream",
     "text": [
      "Accuracy is 50.0 percent.\n"
     ]
    }
   ],
   "source": [
    "l_pred = [y_pred[i].argmax() for i in range(N)]\n",
    "matches = sum([int(pred==actual) for pred, actual in zip(l_pred, Y)])\n",
    "print('Accuracy is', (matches*100)/len(Y), 'percent.')"
   ]
  }
 ],
 "metadata": {
  "kernelspec": {
   "display_name": "Python 3",
   "language": "python",
   "name": "python3"
  },
  "language_info": {
   "codemirror_mode": {
    "name": "ipython",
    "version": 3
   },
   "file_extension": ".py",
   "mimetype": "text/x-python",
   "name": "python",
   "nbconvert_exporter": "python",
   "pygments_lexer": "ipython3",
   "version": "3.7.9"
  }
 },
 "nbformat": 4,
 "nbformat_minor": 4
}
